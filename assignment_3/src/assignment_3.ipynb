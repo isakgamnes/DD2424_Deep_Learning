{
 "cells": [
  {
   "cell_type": "code",
   "execution_count": null,
   "metadata": {},
   "outputs": [],
   "source": [
    "\"\"\"\n",
    "    The program is the solution I have developed for assignment 1 in DD2424, Deep Learning in Data Science at KTH. \n",
    "    @Author: Isak Gamnes Sneltvedt\n",
    "    @Date (last modified): 19.05.2022\n",
    "\"\"\""
   ]
  },
  {
   "cell_type": "code",
   "execution_count": 35,
   "metadata": {},
   "outputs": [],
   "source": [
    "import numpy as np\n",
    "from sklearn.metrics import precision_score, accuracy_score\n",
    "import matplotlib.pyplot as plt\n",
    "import pickle\n",
    "from tqdm import tqdm\n",
    "import math\n",
    "np.warnings.filterwarnings('ignore', category=np.VisibleDeprecationWarning)\n",
    "from numpy import random"
   ]
  },
  {
   "cell_type": "code",
   "execution_count": 3,
   "metadata": {},
   "outputs": [],
   "source": [
    "def load_batch(file):\n",
    "    \"\"\" Copied from: https://www.cs.toronto.edu/~kriz/cifar.html \"\"\"\n",
    "    with open(file, 'rb') as fo:\n",
    "        dict = pickle.load(fo, encoding='bytes')\n",
    "        X = dict[b'data']    # Data (3072x10000)\n",
    "        Y = np.array(dict[b'labels']) # Labels as numbers\n",
    "        encoded_Y = np.zeros((len(Y), np.max(Y)+1), dtype=int) \n",
    "        encoded_Y[np.arange(len(Y)), Y] = 1 # This gives each row 0 for all elements execpt for the number in each row in Y. Ex. Y = 3, encoded_Y = [0,0,0,1,0,0,0,0,0,0]\n",
    "    return np.transpose(X), np.transpose(Y), np.transpose(encoded_Y) "
   ]
  },
  {
   "cell_type": "code",
   "execution_count": 31,
   "metadata": {},
   "outputs": [],
   "source": [
    "def montage(images, rows=2, cols=5):\n",
    "\t\"\"\" Display the image for each label in W \"\"\"\n",
    "\timport matplotlib.pyplot as plt\n",
    "\tfig, ax = plt.subplots(rows,cols)\n",
    "\tfor i in range(rows):\n",
    "\t\tfor j in range(cols):\n",
    "\t\t\tim  = images[i*cols+j,:].reshape(32,32,3, order='F')\n",
    "\t\t\tsim = (im-np.min(im[:]))/(np.max(im[:])-np.min(im[:]))\n",
    "\t\t\tsim = sim.transpose(1,0,2)\n",
    "\t\t\tax[i][j].imshow(sim, interpolation='nearest')\n",
    "\t\t\tax[i][j].set_title(\"y=\"+str(cols*i+j))\n",
    "\t\t\tax[i][j].axis('off')\n",
    "\tplt.show()\n",
    "\n",
    "def normalize_data(data):\n",
    "    std_data = np.std(data, axis=0)\n",
    "    data = data - np.mean(data, axis=0)\n",
    "    data = data / std_data\n",
    "    return data"
   ]
  },
  {
   "cell_type": "code",
   "execution_count": 123,
   "metadata": {},
   "outputs": [],
   "source": [
    "# Done\n",
    "def normalize_data(data):\n",
    "    std_data = np.std(data, axis=0)\n",
    "    data = data - np.mean(data, axis=0)\n",
    "    data = data / std_data\n",
    "    return data\n",
    "\n",
    "# Done\n",
    "def init_params(layer_sizes, He=True, BN=True, mean=0, std_dev=0.01):\n",
    "    n_layers = len(layer_sizes)\n",
    "    W = []\n",
    "    b = []\n",
    "    betas = []\n",
    "    gammas = []\n",
    "    include_gamma_beta = False\n",
    "    \n",
    "    for layer in range(n_layers-1):\n",
    "        # Use careful initialization\n",
    "        if He:\n",
    "            # He definition:\n",
    "            # https://machinelearning.wtf/terms/he-initialization/#:~:text=He%20initialization%20initializes%20the%20bias%20vectors%20of%20a,l%20is%20the%20dimension%20of%20the%20previous%20layer.\n",
    "\n",
    "            # Create random gaussian distribution with 0 mean and 1 variance\n",
    "            layer_W = np.random.randn(layer_sizes[layer+1], layer_sizes[layer])\n",
    "            # Mulitply by sqrt(2/nl) where nl is the size of a previous layer to get He init\n",
    "            layer_W *= np.sqrt(2/layer_sizes[layer])\n",
    "\n",
    "            # If batch norm, init b as zeros, else use He\n",
    "            if BN:\n",
    "                layer_b = np.zeros((layer_sizes[layer+1], 1))\n",
    "            else:\n",
    "                layer_b = np.random.randn(layer_sizes[layer+1], 1)\n",
    "                layer_b *= np.sqrt(2/layer_sizes[layer])\n",
    "\n",
    "        # Else, use old init\n",
    "        else:\n",
    "            W = np.random.normal(mean, std_dev, (layer_sizes[layer+1], layer_sizes[layer]))\n",
    "            b = np.random.normal(mean, std_dev, (layer_sizes[layer+1],1))\n",
    "\n",
    "\n",
    "\n",
    "        W.append(layer_W)\n",
    "        b.append(layer_b)\n",
    "        if include_gamma_beta:\n",
    "            gammas.append(np.ones((layer_sizes[layer],1)))\n",
    "            betas.append(np.zeros((layer_sizes[layer],1)))\n",
    "        else:\n",
    "            include_gamma_beta = True\n",
    "    return W, b, gammas, betas\n",
    "\n",
    "# Done\n",
    "def evaluate_classifier(X, W, b, gamma, beta, BN):\n",
    "    num_layers = len(W)\n",
    "    # Initialize variables and allocate memory\n",
    "    layer_X = [X.copy()] + [None]*(num_layers-1)\n",
    "    S = [None]*(num_layers-1)\n",
    "    S_hat = [None]*(num_layers-1)\n",
    "    layer_means = [None]*(num_layers-1)\n",
    "    layer_vars = [None]*(num_layers-1)\n",
    "\n",
    "    for layer in range(num_layers-1):\n",
    "        S[layer] = np.matmul(W[layer],layer_X[layer]) + b[layer]\n",
    "\n",
    "        if BN:\n",
    "            layer_means[layer] = S[layer].mean(axis=1).reshape(-1,1)\n",
    "            layer_vars[layer] = S[layer].var(axis=1).reshape(-1,1)\n",
    "            \n",
    "            S_hat[layer] = (S[layer]-layer_means[layer])/(np.sqrt(layer_vars[layer]+1e-10))\n",
    "            S_tilde = np.multiply(S_hat[layer], gamma[layer]) + beta[layer]\n",
    "            S_tilde[S_tilde<0] = 0\n",
    "            layer_X[layer+1] = S_tilde\n",
    "\n",
    "        else:\n",
    "            S_temp = S[layer]\n",
    "            S_temp[S_temp<0] = 0\n",
    "            layer_X[layer+1] = S_temp\n",
    "    S_out = np.matmul(W[num_layers-1], layer_X[num_layers-1]) + b[num_layers-1]\n",
    "    P = np.exp(S_out)/np.sum(np.exp(S_out), axis=0)\n",
    "    return P, S, S_hat, layer_X[1:], layer_means, layer_vars\n",
    "\n",
    "# Done\n",
    "def compute_cost(X, Y, W, b, gamma, beta, lambda_val, BN):\n",
    "    P, _, _, _, _, _ = evaluate_classifier(X, W, b, gamma, beta, BN)\n",
    "    square_sum = [np.sum(np.square(w)) for w in W]\n",
    "    regularization_term = lambda_val*np.sum(square_sum)\n",
    "    D = X.shape[1]\n",
    "    cross_loss = np.trace(-np.multiply(Y, np.log(P)))\n",
    "    return (cross_loss/D) + regularization_term\n",
    "\n",
    "# Done\n",
    "def compute_accuracy(X, y, W, b, gamma, beta, BN):\n",
    "    P = evaluate_classifier(X, W, b, gamma, beta, BN)[0]\n",
    "    y_pred = np.argmax(P, axis=0)\n",
    "    return accuracy_score(y, y_pred)\n",
    "\n",
    "# Done\n",
    "def compute_gradients(X, Y, W, b, gamma, beta, lambda_val, BN=True):\n",
    "    P, S, S_hat, layer_X, layer_means, layer_vars = evaluate_classifier(X, W, b, gamma, beta, BN)\n",
    "    k = len(W)\n",
    "    N = X.shape[1]\n",
    "    dJdW = [None]*k\n",
    "    dJdB = [None]*k\n",
    "\n",
    "    if BN:\n",
    "        layer_X = [X.copy()] + layer_X\n",
    "    else:\n",
    "        layer_X = [X.copy()] + S\n",
    "\n",
    "    # Propagate the gradient through the loss and softmax operations\n",
    "    G_batch = -(Y - P)\n",
    "\n",
    "    # The gradients of J w.r.t. bias vector bk and weight matrix Wk\n",
    "    dJdW[k-1] = np.matmul(G_batch, np.transpose(layer_X[k-1]))/N + 2*lambda_val*W[k-1]\n",
    "    dJdB[k-1] = np.matmul(G_batch, np.ones((N,1)))/N\n",
    "    \n",
    "    # Propagate G_batch to the previous layer\n",
    "    G_batch = np.matmul(np.transpose(W[k-1]), G_batch)\n",
    "    G_batch = np.multiply(G_batch, (layer_X[k-1] > 0))\n",
    "\n",
    "    # Allocate memory for gamma and beta gradients\n",
    "    dJdGamma = [None]*(k-1)\n",
    "    dJdBeta = [None]*(k-1)\n",
    "\n",
    "    # For layer = k − 2, k − 3, . . . , 0\n",
    "    for layer in range(k-2, -1, -1):\n",
    "        if BN:\n",
    "            dJdGamma[layer] = np.matmul(np.multiply(G_batch, S_hat[layer]), np.ones((N,1)))/N\n",
    "            dJdBeta[layer] = np.matmul(G_batch, np.ones((N,1)))/N\n",
    "            G_batch_BN = np.multiply(G_batch, np.matmul(gamma[layer], np.ones((1,N))))\n",
    "            G_batch = batch_norm_back_pass(G_batch_BN, S[layer], layer_means[layer], layer_vars[layer])\n",
    "        \n",
    "        dJdW[layer] = np.matmul(G_batch, np.transpose(layer_X[layer]))/N + 2*lambda_val*W[layer]\n",
    "        dJdB[layer] = np.matmul(G_batch, np.ones((N,1)))/N\n",
    "\n",
    "        if layer > 0:\n",
    "            G_batch = np.matmul(np.transpose(W[layer]), G_batch)\n",
    "            G_batch = np.multiply(G_batch, layer_X[layer] > 0)\n",
    "    return dJdW, dJdB, dJdGamma, dJdBeta, layer_means, layer_vars\n",
    "\n",
    "# Done\n",
    "def compute_grads_num(X, Y, W, b, gamma, beta, lambda_val, BN=True, h=1e-5):\n",
    "    k = len(W)\n",
    "\n",
    "    dJdW = [None]*k\n",
    "    dJdB = [None]*k\n",
    "    dJdGamma = [None]*(k-1)\n",
    "    dJdBeta = [None]*(k-1)\n",
    "    \n",
    "    for layer in range(len(W)):\n",
    "\n",
    "        grad_b = np.zeros(b[layer].shape)\n",
    "        \n",
    "        for i in range(grad_b.shape[0]):\n",
    "            b_temp = b.copy()\n",
    "            b_try = b_temp[layer]\n",
    "            b_try[i] += h\n",
    "            b_temp[layer] = b_try\n",
    "            c1 = compute_cost(X, Y, W, b_temp, gamma, beta, lambda_val, BN)\n",
    "            \n",
    "            b_temp = b.copy()\n",
    "            b_try = b_temp[layer]\n",
    "            b_try[i] -= h\n",
    "            b_temp[layer] = b_try\n",
    "            c2 = compute_cost(X, Y, W, b_temp, gamma, beta, lambda_val, BN)\n",
    "            grad_b[i] = (c2-c1) / h\n",
    "        dJdB[layer] = grad_b\n",
    "\n",
    "        grad_W = np.zeros(W[layer].shape)\n",
    "        for i in range(grad_W.shape[0]):\n",
    "            for j in range(grad_W.shape[1]):\n",
    "                W_temp = W.copy()\n",
    "                W_try = W_temp[layer]\n",
    "                W_try[i,j] += h\n",
    "                W_temp[layer] = W_try\n",
    "                c1 = compute_cost(X, Y, W_temp, b, gamma, beta, lambda_val, BN)\n",
    "                \n",
    "                W_temp = W.copy()\n",
    "                W_try = W_temp[layer]\n",
    "                W_try[i,j] -= h\n",
    "                W_temp[layer] = W_try\n",
    "                c2 = compute_cost(X, Y, W_temp, b, gamma, beta, lambda_val, BN)\n",
    "                grad_W[i,j] = (c2-c1) / h\n",
    "        dJdW[layer] = grad_W\n",
    "\n",
    "    for layer in range(len(W)-1):\n",
    "        grad_beta = np.zeros(beta[layer].shape)\n",
    "        for i in range(grad_beta.shape[0]):\n",
    "            beta_temp = beta.copy()\n",
    "            beta_try = beta_temp[layer]\n",
    "            beta_try[i] += h\n",
    "            beta_temp[layer] = beta_try\n",
    "            c1 = compute_cost(X, Y, W, b, gamma, beta_temp, lambda_val, BN)\n",
    "            \n",
    "            beta_temp = beta.copy()\n",
    "            beta_try = beta_temp[layer]\n",
    "            beta_try[i] -= h\n",
    "            beta_temp[layer] = beta_try\n",
    "            c2 = compute_cost(X, Y, W, b, gamma, beta_temp, lambda_val, BN)\n",
    "\n",
    "            grad_beta[i] = (c2-c1) / h\n",
    "        dJdBeta[layer] = grad_beta\n",
    "\n",
    "        grad_gamma = np.zeros(gamma[layer].shape)\n",
    "        for i in range(grad_gamma.shape[0]):\n",
    "            gamma_temp = gamma.copy()\n",
    "            gamma_try = gamma_temp[layer]\n",
    "            gamma_try[i] += h\n",
    "            gamma_temp[layer] = gamma_try\n",
    "            c1 = compute_cost(X, Y, W, b, gamma_temp, beta, lambda_val, BN)\n",
    "            \n",
    "            gamma_temp = gamma.copy()\n",
    "            gamma_try = gamma_temp[layer]\n",
    "            gamma_try[i] -= h\n",
    "            gamma_temp[layer] = gamma_try\n",
    "            c2 = compute_cost(X, Y, W, b, gamma_temp, beta, lambda_val, BN)\n",
    "            \n",
    "            grad_gamma[i] = (c2-c1)/h\n",
    "        dJdGamma[layer] = grad_gamma\n",
    "\n",
    "    return dJdW, dJdB, dJdGamma, dJdBeta\n",
    "\n",
    "# Done\n",
    "def compare_computed_gradients(ga, gn, eps=1**(-7)):\n",
    "    # Default eps value comes from the Standford’s course Convolutional Neural Networks for Visual Recognition recommendation \n",
    "    # https://cs231n.github.io/neural-networks-3/#gradcheck\n",
    "    relative_error = [np.abs(ga_i - gn_i).sum() for ga_i, gn_i in zip(ga, gn)]\n",
    "    denom = [max(eps, np.abs(ga_i + gn_i).sum()) for ga_i, gn_i in zip(ga, gn)]\n",
    "    test = [relative_error_i/denom_i < eps for relative_error_i, denom_i in zip(relative_error, denom)]\n",
    "    return test\n",
    "\n",
    "# Done\n",
    "def batch_norm_back_pass(G_batch, S_batch, mean, var):\n",
    "    n = S_batch.shape[1]\n",
    "    sigma_1 = (var+1e-10)**(-0.5)\n",
    "    sigma_2 = (var+1e-10)**(-1.5)\n",
    "    G1 = np.multiply(G_batch, np.matmul(sigma_1, np.ones((1,n))))\n",
    "    G2 = np.multiply(G_batch, np.matmul(sigma_2, np.ones((1,n))))\n",
    "    D = S_batch - np.matmul(mean, np.ones((1,n)))\n",
    "    c = np.matmul(np.multiply(G2, D), np.ones((n,1)))\n",
    "\n",
    "    return (G1 - np.matmul(G1, np.ones((n,1))))/n - np.multiply(D, np.matmul(c, np.ones((1,n))))/n\n",
    "\n",
    "def gradient_descent(X, Y, y, X_val, Y_val, y_val, n_batch, eta, n_epochs, W, b, gamma, beta, lambda_val, alpha, eta_min=1e-5, eta_max=1e-1, n_s=500, step_decay=False, use_CLR=False, BN=True):\n",
    "    total_length = X.shape[1]\n",
    "    training_accuracy = []\n",
    "    training_loss = []\n",
    "    validation_accuracy = []\n",
    "    validation_loss = []\n",
    "    eta_evolution = []\n",
    "    k_list1 = list(range(0, n_s, 1))\n",
    "    k_list2 = list(range(n_s, 0, -1))\n",
    "    k_list = np.concatenate([k_list1, k_list2], axis=0)\n",
    "    cycle_idx = 0\n",
    "\n",
    "    for epoch in tqdm(range(n_epochs)):\n",
    "        # From 0 to the total length of the data set. n_batch makes \"batch\" increase by n_batch (batch size) for each iteration.\n",
    "        for batch in range(0, total_length, n_batch):\n",
    "            max_batch_idx = batch+n_batch\n",
    "            Y_batch = Y[:,batch:max_batch_idx]\n",
    "            X_batch = X[:,batch:max_batch_idx]\n",
    "            \n",
    "            grad_W, grad_b, grad_gamma, grad_beta, layer_means, layer_vars = compute_gradients(X_batch, Y_batch, W, b, gamma, beta, lambda_val, BN)\n",
    "            \n",
    "\n",
    "            \"\"\" CLR \"\"\"\n",
    "            if use_CLR:\n",
    "                t = k_list[cycle_idx]\n",
    "                \n",
    "                cycle_idx += 1\n",
    "                if cycle_idx >= len(k_list):\n",
    "                    cycle_idx = 0\n",
    "                eta = CLR(t, eta_min, eta_max, n_s)\n",
    "                eta_evolution.append(eta)\n",
    "            \n",
    "            \n",
    "            W -= eta*np.array(grad_W)\n",
    "            b -= eta*np.array(grad_b)\n",
    "            \n",
    "            if BN:\n",
    "                \n",
    "                gamma-=eta*np.array(grad_gamma)\n",
    "                beta-=eta*np.array(grad_beta)\n",
    "                \n",
    "                if batch == 0 and epoch == 0:\n",
    "                    average_mean = layer_means\n",
    "                    average_var = layer_vars\n",
    "                else:\n",
    "                    average_mean = [alpha*average_mean[l]+(1-alpha)*layer_means[l] for l in range(len(layer_means))]\n",
    "                    average_var = [alpha*average_var[l]+(1-alpha)*layer_vars[l] for l in range(len(layer_vars))]\n",
    "            else:\n",
    "                average_mean = None\n",
    "                average_var = None\n",
    "        \"\"\" Step decay \"\"\"\n",
    "        if epoch%10 == 0 and epoch!=0 and step_decay:\n",
    "            eta = .1*eta\n",
    "            eta_min = .1*eta_min\n",
    "            eta_max = .1*eta_max\n",
    "            tqdm.write('Step decay performed.. eta is now {}'.format(eta)) \n",
    "                  \n",
    "        training_accuracy.append(compute_accuracy(X, y, W, b, gamma, beta, BN))\n",
    "        training_loss.append(compute_cost(X, Y, W, b, gamma, beta, lambda_val, BN))\n",
    "        validation_accuracy.append(compute_accuracy(X_val, y_val, W, b, gamma, beta, BN))\n",
    "        validation_loss.append(compute_cost(X_val, Y_val, W, b, gamma, beta, lambda_val, BN)) \n",
    "    return W, b, gamma, beta, training_accuracy, training_loss, validation_accuracy, validation_loss, eta_evolution, average_mean, average_var\n",
    "\n",
    "def CLR(t, eta_min, eta_max, n_s):\n",
    "    l = math.floor(t/(2*n_s))\n",
    "\n",
    "    if t >= 2*n_s*l and t < (2*l + 1)*n_s:\n",
    "        eta = eta_min + ((t - 2*l*n_s)/n_s)*(eta_max - eta_min)\n",
    "\n",
    "    elif t >= (2*l + 1)*n_s and t < 2*(l + 1)*n_s:\n",
    "        eta = eta_max - ((t - (2*l + 1)*n_s)/n_s)*(eta_max - eta_min)\n",
    "    return eta\n",
    "\n",
    "def plot_training_validation(training, validation, plot_accuracy=True):\n",
    "    if plot_accuracy:\n",
    "        plotting = 'Accuracy'\n",
    "    else:\n",
    "        plotting = 'Loss'\n",
    "    plt.plot(training, color='red', label='Train ' + plotting)\n",
    "    plt.plot(validation, color='blue', label='Validation ' + plotting)\n",
    "    \n",
    "    plt.legend()\n",
    "    plt.xlabel(\"Epochs\")\n",
    "    plt.ylabel(plotting)\n",
    "    plt.show()"
   ]
  },
  {
   "cell_type": "markdown",
   "metadata": {},
   "source": [
    "# Perform gradient test"
   ]
  },
  {
   "cell_type": "code",
   "execution_count": 21,
   "metadata": {},
   "outputs": [],
   "source": [
    "train_x, train_Y, train_encoded_Y = load_batch('../Datasets/cifar-10-batches-py/data_batch_1')\n",
    "validation_x, validation_Y, validation_encoded_Y = load_batch('../Datasets/cifar-10-batches-py/data_batch_2')\n",
    "test_x, test_Y, test_encoded_Y = load_batch('../Datasets/cifar-10-batches-py/data_batch_3')"
   ]
  },
  {
   "cell_type": "code",
   "execution_count": 22,
   "metadata": {},
   "outputs": [],
   "source": [
    "train_normalized = normalize_data(train_x)\n",
    "validation_normalized = normalize_data(validation_x)\n",
    "test_normalized = normalize_data(test_x)"
   ]
  },
  {
   "cell_type": "markdown",
   "metadata": {},
   "source": [
    "## 2-layer network"
   ]
  },
  {
   "cell_type": "code",
   "execution_count": 24,
   "metadata": {},
   "outputs": [],
   "source": [
    "layer_sizes = [train_normalized.shape[0],10,10,10]\n",
    "W, b, gamma, beta = init_params(layer_sizes, He=True, BN=True, mean=0, std_dev=0.01)"
   ]
  },
  {
   "cell_type": "code",
   "execution_count": 25,
   "metadata": {},
   "outputs": [],
   "source": [
    "# Testing gradient computation\n",
    "g_W,g_b,g_gamma,g_beta=compute_grads_num(train_normalized[:,:50], train_encoded_Y[:,:50], W, b, gamma, beta, 0)\n",
    "G_W,G_b,G_gamma,G_beta,_,_=compute_gradients(train_normalized[:,:50], train_encoded_Y[:,:50], W, b, gamma, beta, 0)\n"
   ]
  },
  {
   "cell_type": "code",
   "execution_count": 28,
   "metadata": {},
   "outputs": [
    {
     "name": "stdout",
     "output_type": "stream",
     "text": [
      "[True, False, True]\n",
      "Returned true. Gradients for b have produced the same result\n",
      "Returned true. Gradients for W have produced the same result\n",
      "Returned true. Gradients for gamma have produced the same result\n",
      "Returned true. Gradients for beta have produced the same result\n"
     ]
    }
   ],
   "source": [
    "comparison_b = compare_computed_gradients(g_b, G_b)\n",
    "print(comparison_b)\n",
    "if comparison_b:\n",
    "    print('Returned true. Gradients for b have produced the same result')\n",
    "else:\n",
    "    print('Failed..')\n",
    "\n",
    "comparison_W = compare_computed_gradients(g_W, G_W)\n",
    "if comparison_W:\n",
    "    print('Returned true. Gradients for W have produced the same result')\n",
    "else:\n",
    "    print('Failed..')\n",
    "\n",
    "comparison_gamma = compare_computed_gradients(g_gamma, G_gamma)\n",
    "if comparison_gamma:\n",
    "    print('Returned true. Gradients for gamma have produced the same result')\n",
    "else:\n",
    "    print('Failed..')\n",
    "\n",
    "comparison_beta = compare_computed_gradients(g_beta, G_beta)\n",
    "if comparison_beta:\n",
    "    print('Returned true. Gradients for beta have produced the same result')\n",
    "else:\n",
    "    print('Failed..')"
   ]
  },
  {
   "cell_type": "code",
   "execution_count": 29,
   "metadata": {},
   "outputs": [
    {
     "name": "stdout",
     "output_type": "stream",
     "text": [
      "[True, False, True]\n",
      "[True, True, False]\n",
      "[False, True]\n",
      "[True, True]\n"
     ]
    }
   ],
   "source": [
    "print(comparison_b)\n",
    "print(comparison_W)\n",
    "print(comparison_gamma)\n",
    "print(comparison_beta)"
   ]
  },
  {
   "cell_type": "markdown",
   "metadata": {},
   "source": [
    "## 3-layer network"
   ]
  },
  {
   "cell_type": "code",
   "execution_count": 149,
   "metadata": {},
   "outputs": [],
   "source": [
    "layer_sizes = [train_normalized.shape[0],10,10,10,10]\n",
    "W, b, gamma, beta = init_params(layer_sizes, He=True, BN=True, mean=0, std_dev=0.01)"
   ]
  },
  {
   "cell_type": "code",
   "execution_count": 150,
   "metadata": {},
   "outputs": [],
   "source": [
    "g_W,g_b,g_gamma,g_beta=compute_grads_num(train_normalized[:,:50], train_encoded_Y[:,:50], W, b, gamma, beta, 0)\n",
    "G_W,G_b,G_gamma,G_beta,_,_=compute_gradients(train_normalized[:,:50], train_encoded_Y[:,:50], W, b, gamma, beta, 0)"
   ]
  },
  {
   "cell_type": "code",
   "execution_count": 151,
   "metadata": {},
   "outputs": [
    {
     "name": "stdout",
     "output_type": "stream",
     "text": [
      "Returned true. Gradients for b have produced the same result\n",
      "Returned true. Gradients for W have produced the same result\n",
      "Returned true. Gradients for gamma have produced the same result\n",
      "Returned true. Gradients for beta have produced the same result\n"
     ]
    }
   ],
   "source": [
    "comparison_b = compare_computed_gradients(g_b, G_b)\n",
    "if comparison_b:\n",
    "    print('Returned true. Gradients for b have produced the same result')\n",
    "else:\n",
    "    print('Failed..')\n",
    "\n",
    "comparison_W = compare_computed_gradients(g_W, G_W)\n",
    "if comparison_W:\n",
    "    print('Returned true. Gradients for W have produced the same result')\n",
    "else:\n",
    "    print('Failed..')\n",
    "\n",
    "comparison_gamma = compare_computed_gradients(g_gamma, G_gamma)\n",
    "if comparison_gamma:\n",
    "    print('Returned true. Gradients for gamma have produced the same result')\n",
    "else:\n",
    "    print('Failed..')\n",
    "\n",
    "comparison_beta = compare_computed_gradients(g_beta, G_beta)\n",
    "if comparison_beta:\n",
    "    print('Returned true. Gradients for beta have produced the same result')\n",
    "else:\n",
    "    print('Failed..')"
   ]
  },
  {
   "cell_type": "markdown",
   "metadata": {},
   "source": [
    "## 4-layer network"
   ]
  },
  {
   "cell_type": "code",
   "execution_count": 152,
   "metadata": {},
   "outputs": [],
   "source": [
    "layer_sizes = [train_normalized.shape[0],10,10,10,10,10]\n",
    "W, b, gamma, beta = init_params(layer_sizes, He=True, BN=True, mean=0, std_dev=0.01)"
   ]
  },
  {
   "cell_type": "code",
   "execution_count": 153,
   "metadata": {},
   "outputs": [],
   "source": [
    "g_W,g_b,g_gamma,g_beta=compute_grads_num(train_normalized[:,:50], train_encoded_Y[:,:50], W, b, gamma, beta, 0)\n",
    "G_W,G_b,G_gamma,G_beta,_,_=compute_gradients(train_normalized[:,:50], train_encoded_Y[:,:50], W, b, gamma, beta, 0)"
   ]
  },
  {
   "cell_type": "code",
   "execution_count": 19,
   "metadata": {},
   "outputs": [
    {
     "name": "stdout",
     "output_type": "stream",
     "text": [
      "Returned true. Gradients for b have produced the same result\n",
      "Returned true. Gradients for W have produced the same result\n",
      "Returned true. Gradients for gamma have produced the same result\n",
      "Returned true. Gradients for beta have produced the same result\n"
     ]
    }
   ],
   "source": [
    "comparison_b = compare_computed_gradients(g_b, G_b)\n",
    "if comparison_b:\n",
    "    print('Returned true. Gradients for b have produced the same result')\n",
    "else:\n",
    "    print('Failed..')\n",
    "\n",
    "comparison_W = compare_computed_gradients(g_W, G_W)\n",
    "if comparison_W:\n",
    "    print('Returned true. Gradients for W have produced the same result')\n",
    "else:\n",
    "    print('Failed..')\n",
    "\n",
    "comparison_gamma = compare_computed_gradients(g_gamma, G_gamma)\n",
    "if comparison_gamma:\n",
    "    print('Returned true. Gradients for gamma have produced the same result')\n",
    "else:\n",
    "    print('Failed..')\n",
    "\n",
    "comparison_beta = compare_computed_gradients(g_beta, G_beta)\n",
    "if comparison_beta:\n",
    "    print('Returned true. Gradients for beta have produced the same result')\n",
    "else:\n",
    "    print('Failed..')"
   ]
  },
  {
   "cell_type": "code",
   "execution_count": 117,
   "metadata": {},
   "outputs": [],
   "source": [
    "test_idx = 0\n",
    "# Add all datasets and test set urls for easy access later\n",
    "# The training set is at idx 0, so that the indexes correspond to the batch number for the other data sets\n",
    "datasets = ['../Datasets/cifar-10-batches-py/test_batch',\n",
    "            '../Datasets/cifar-10-batches-py/data_batch_1',\n",
    "            '../Datasets/cifar-10-batches-py/data_batch_2',\n",
    "            '../Datasets/cifar-10-batches-py/data_batch_3',\n",
    "            '../Datasets/cifar-10-batches-py/data_batch_4',\n",
    "            '../Datasets/cifar-10-batches-py/data_batch_5'\n",
    "            ]\n",
    "\n",
    "training_x1, training_y1, training_encoded_1 = load_batch(datasets[1])\n",
    "training_x2, training_y2, training_encoded_2 = load_batch(datasets[2])\n",
    "training_x3, training_y3, training_encoded_3 = load_batch(datasets[3])\n",
    "training_x4, training_y4, training_encoded_4 = load_batch(datasets[4])\n",
    "training_x5, training_y5, training_encoded_5 = load_batch(datasets[5])    \n",
    "test_x, test_y, test_encoded = load_batch(datasets[test_idx])\n",
    "\n",
    "training_x = np.concatenate((training_x1, training_x2, training_x3, training_x4, training_x5), axis=1)\n",
    "training_y = np.concatenate((training_y1, training_y2, training_y3, training_y4, training_y5), axis=0)\n",
    "training_encoded = np.concatenate((training_encoded_1, training_encoded_2, training_encoded_3, training_encoded_4, training_encoded_5), axis=1)\n",
    "\n",
    "validation_x = training_x[:,-5000:]\n",
    "validation_encoded = training_encoded[:,-5000:]\n",
    "validation_y = training_y[-5000:]\n",
    "val_idx = np.arange(44999, 49999, 1)\n",
    "\n",
    "training_x = np.delete(training_x, val_idx, axis=1)\n",
    "training_encoded = np.delete(training_encoded, val_idx, axis=1)  \n",
    "training_y = np.delete(training_y, val_idx, axis=0)\n",
    "\n",
    "# Normalize the data\n",
    "training_x_norm = normalize_data(training_x)\n",
    "validation_x_norm = normalize_data(validation_x)\n",
    "test_x_norm = normalize_data(test_x)\n",
    "\n"
   ]
  },
  {
   "cell_type": "markdown",
   "metadata": {},
   "source": [
    "# Training multiple layer networks without batch normalization"
   ]
  },
  {
   "cell_type": "markdown",
   "metadata": {},
   "source": [
    "## 3-Layer network"
   ]
  },
  {
   "cell_type": "code",
   "execution_count": 134,
   "metadata": {},
   "outputs": [],
   "source": [
    "layer_sizes = [training_x_norm.shape[0],50,50,10]\n",
    "W, b, gamma, beta = init_params(layer_sizes, He=True, BN=False)"
   ]
  },
  {
   "cell_type": "code",
   "execution_count": 135,
   "metadata": {},
   "outputs": [
    {
     "name": "stderr",
     "output_type": "stream",
     "text": [
      "100%|██████████| 20/20 [04:06<00:00, 12.34s/it]\n"
     ]
    }
   ],
   "source": [
    "n_batch = 100\n",
    "n_s = int(5*45000/n_batch)\n",
    "n_epochs = 20\n",
    "eta_min = 1e-5\n",
    "eta_max = 1e-1\n",
    "lambda_val = 0.005\n",
    "(   W, \n",
    "    b, \n",
    "    gamma, \n",
    "    beta, \n",
    "    training_accuracy,\n",
    "    training_loss, \n",
    "    validation_accuracy, \n",
    "    validation_loss, \n",
    "    eta_evolution, \n",
    "    average_mean, \n",
    "    average_var) = gradient_descent(training_x_norm,\n",
    "                                        training_encoded, \n",
    "                                        training_y,\n",
    "                                        validation_x_norm,\n",
    "                                        validation_encoded,\n",
    "                                        validation_y,\n",
    "                                        n_batch=n_batch,\n",
    "                                        eta=1e-5,\n",
    "                                        n_epochs=n_epochs,\n",
    "                                        W=W,\n",
    "                                        b=b,\n",
    "                                        gamma=gamma,\n",
    "                                        beta=beta,\n",
    "                                        lambda_val=lambda_val,\n",
    "                                        alpha=None,\n",
    "                                        eta_min=1e-5,\n",
    "                                        eta_max=1e-1,\n",
    "                                        n_s=n_s,\n",
    "                                        use_CLR=True,\n",
    "                                        BN=False\n",
    "                                        )"
   ]
  },
  {
   "cell_type": "code",
   "execution_count": 136,
   "metadata": {},
   "outputs": [
    {
     "data": {
      "image/png": "[encoded data removed]",
      "text/plain": [
       "<Figure size 432x288 with 1 Axes>"
      ]
     },
     "metadata": {
      "needs_background": "light"
     },
     "output_type": "display_data"
    }
   ],
   "source": [
    "plot_training_validation(training_accuracy, validation_accuracy, plot_accuracy=True)"
   ]
  },
  {
   "cell_type": "code",
   "execution_count": 137,
   "metadata": {},
   "outputs": [
    {
     "data": {
      "image/png": "[encoded data removed]",
      "text/plain": [
       "<Figure size 432x288 with 1 Axes>"
      ]
     },
     "metadata": {
      "needs_background": "light"
     },
     "output_type": "display_data"
    }
   ],
   "source": [
    "plot_training_validation(training_loss, validation_loss, plot_accuracy=False)"
   ]
  },
  {
   "cell_type": "code",
   "execution_count": 138,
   "metadata": {},
   "outputs": [
    {
     "data": {
      "image/png": "[encoded data removed]",
      "text/plain": [
       "<Figure size 432x288 with 1 Axes>"
      ]
     },
     "metadata": {
      "needs_background": "light"
     },
     "output_type": "display_data"
    }
   ],
   "source": [
    "plt.plot(eta_evolution, color='blue', label='ETA over time')\n",
    "plt.legend()\n",
    "plt.xlabel(\"Epochs steps\")\n",
    "plt.ylabel('ETA')\n",
    "plt.savefig('CLR_ETA.png')\n",
    "plt.show()"
   ]
  },
  {
   "cell_type": "markdown",
   "metadata": {},
   "source": [
    "## 9-layer network"
   ]
  },
  {
   "cell_type": "code",
   "execution_count": 129,
   "metadata": {},
   "outputs": [],
   "source": [
    "layer_sizes = [training_x_norm.shape[0],50,30,20,20,10,10,10,10,10]\n",
    "W, b, gamma, beta = init_params(layer_sizes, He=True, BN=False)"
   ]
  },
  {
   "cell_type": "code",
   "execution_count": 130,
   "metadata": {},
   "outputs": [
    {
     "name": "stderr",
     "output_type": "stream",
     "text": [
      "100%|██████████| 20/20 [03:51<00:00, 11.58s/it]\n"
     ]
    }
   ],
   "source": [
    "n_batch = 100\n",
    "n_s = int(5*45000/n_batch)\n",
    "n_epochs = 20\n",
    "eta_min = 1e-5\n",
    "eta_max = 1e-1\n",
    "lambda_val = 0.005\n",
    "(   W, \n",
    "    b, \n",
    "    gamma, \n",
    "    beta, \n",
    "    training_accuracy,\n",
    "    training_loss, \n",
    "    validation_accuracy, \n",
    "    validation_loss, \n",
    "    eta_evolution, \n",
    "    average_mean, \n",
    "    average_var) = gradient_descent(training_x_norm,\n",
    "                                        training_encoded, \n",
    "                                        training_y,\n",
    "                                        validation_x_norm,\n",
    "                                        validation_encoded,\n",
    "                                        validation_y,\n",
    "                                        n_batch=n_batch,\n",
    "                                        eta=1e-5,\n",
    "                                        n_epochs=n_epochs,\n",
    "                                        W=W,\n",
    "                                        b=b,\n",
    "                                        gamma=gamma,\n",
    "                                        beta=beta,\n",
    "                                        lambda_val=lambda_val,\n",
    "                                        alpha=None,\n",
    "                                        eta_min=1e-5,\n",
    "                                        eta_max=1e-1,\n",
    "                                        n_s=n_s,\n",
    "                                        use_CLR=True,\n",
    "                                        BN=False\n",
    "                                        )"
   ]
  },
  {
   "cell_type": "code",
   "execution_count": 131,
   "metadata": {},
   "outputs": [
    {
     "data": {
      "image/png": "[encoded data removed]",
      "text/plain": [
       "<Figure size 432x288 with 1 Axes>"
      ]
     },
     "metadata": {
      "needs_background": "light"
     },
     "output_type": "display_data"
    }
   ],
   "source": [
    "plot_training_validation(training_accuracy, validation_accuracy, plot_accuracy=True)"
   ]
  },
  {
   "cell_type": "code",
   "execution_count": 132,
   "metadata": {},
   "outputs": [
    {
     "data": {
      "image/png": "[encoded data removed]",
      "text/plain": [
       "<Figure size 432x288 with 1 Axes>"
      ]
     },
     "metadata": {
      "needs_background": "light"
     },
     "output_type": "display_data"
    }
   ],
   "source": [
    "plot_training_validation(training_loss, validation_loss, plot_accuracy=False)"
   ]
  },
  {
   "cell_type": "code",
   "execution_count": 133,
   "metadata": {},
   "outputs": [
    {
     "data": {
      "image/png": "[encoded data removed]",
      "text/plain": [
       "<Figure size 432x288 with 1 Axes>"
      ]
     },
     "metadata": {
      "needs_background": "light"
     },
     "output_type": "display_data"
    }
   ],
   "source": [
    "plt.plot(eta_evolution, color='blue', label='ETA over time')\n",
    "plt.legend()\n",
    "plt.xlabel(\"Epochs steps\")\n",
    "plt.ylabel('ETA')\n",
    "plt.savefig('CLR_ETA.png')\n",
    "plt.show()"
   ]
  },
  {
   "cell_type": "code",
   "execution_count": 142,
   "metadata": {},
   "outputs": [],
   "source": [
    "layer_sizes = [training_x_norm.shape[0],50,50,10]\n",
    "W, b, gamma, beta = init_params(layer_sizes, He=True, BN=True)"
   ]
  },
  {
   "cell_type": "code",
   "execution_count": 143,
   "metadata": {},
   "outputs": [
    {
     "name": "stderr",
     "output_type": "stream",
     "text": [
      "100%|██████████| 20/20 [04:22<00:00, 13.10s/it]\n"
     ]
    }
   ],
   "source": [
    "n_batch = 100\n",
    "n_s = int(5*45000/n_batch)\n",
    "n_epochs = 20\n",
    "eta_min = 1e-5\n",
    "eta_max = 1e-1\n",
    "lambda_val = 0.005\n",
    "(   W, \n",
    "    b, \n",
    "    gamma, \n",
    "    beta, \n",
    "    training_accuracy,\n",
    "    training_loss, \n",
    "    validation_accuracy, \n",
    "    validation_loss, \n",
    "    eta_evolution, \n",
    "    average_mean, \n",
    "    average_var) = gradient_descent(training_x_norm,\n",
    "                                        training_encoded, \n",
    "                                        training_y,\n",
    "                                        validation_x_norm,\n",
    "                                        validation_encoded,\n",
    "                                        validation_y,\n",
    "                                        n_batch=n_batch,\n",
    "                                        eta=1e-5,\n",
    "                                        n_epochs=n_epochs,\n",
    "                                        W=W,\n",
    "                                        b=b,\n",
    "                                        gamma=gamma,\n",
    "                                        beta=beta,\n",
    "                                        lambda_val=lambda_val,\n",
    "                                        alpha=.9,\n",
    "                                        eta_min=1e-5,\n",
    "                                        eta_max=1e-1,\n",
    "                                        n_s=n_s,\n",
    "                                        use_CLR=True,\n",
    "                                        BN=True\n",
    "                                        )"
   ]
  },
  {
   "cell_type": "code",
   "execution_count": 144,
   "metadata": {},
   "outputs": [
    {
     "data": {
      "image/png": "[encoded data removed]",
      "text/plain": [
       "<Figure size 432x288 with 1 Axes>"
      ]
     },
     "metadata": {
      "needs_background": "light"
     },
     "output_type": "display_data"
    }
   ],
   "source": [
    "plot_training_validation(training_accuracy, validation_accuracy, plot_accuracy=True)"
   ]
  },
  {
   "cell_type": "code",
   "execution_count": 145,
   "metadata": {},
   "outputs": [
    {
     "data": {
      "image/png": "[encoded data removed]",
      "text/plain": [
       "<Figure size 432x288 with 1 Axes>"
      ]
     },
     "metadata": {
      "needs_background": "light"
     },
     "output_type": "display_data"
    }
   ],
   "source": [
    "plot_training_validation(training_loss, validation_loss, plot_accuracy=False)"
   ]
  },
  {
   "cell_type": "code",
   "execution_count": 146,
   "metadata": {},
   "outputs": [
    {
     "data": {
      "image/png": "[encoded data removed]",
      "text/plain": [
       "<Figure size 432x288 with 1 Axes>"
      ]
     },
     "metadata": {
      "needs_background": "light"
     },
     "output_type": "display_data"
    }
   ],
   "source": [
    "plt.plot(eta_evolution, color='blue', label='ETA over time')\n",
    "plt.legend()\n",
    "plt.xlabel(\"Epochs steps\")\n",
    "plt.ylabel('ETA')\n",
    "plt.savefig('CLR_ETA.png')\n",
    "plt.show()"
   ]
  }
 ],
 "metadata": {
  "interpreter": {
   "hash": "b53ba8b3b46fa92656cd672199e86d53ade1243c46ce3f688fd03025adefc66c"
  },
  "kernelspec": {
   "display_name": "Python 3.9.13 64-bit (windows store)",
   "language": "python",
   "name": "python3"
  },
  "language_info": {
   "codemirror_mode": {
    "name": "ipython",
    "version": 3
   },
   "file_extension": ".py",
   "mimetype": "text/x-python",
   "name": "python",
   "nbconvert_exporter": "python",
   "pygments_lexer": "ipython3",
   "version": "3.9.13"
  },
  "orig_nbformat": 4
 },
 "nbformat": 4,
 "nbformat_minor": 2
}
